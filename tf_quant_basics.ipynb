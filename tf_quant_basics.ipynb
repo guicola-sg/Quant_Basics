{
 "cells": [
  {
   "cell_type": "code",
   "execution_count": 1,
   "metadata": {},
   "outputs": [],
   "source": [
    "import pandas as pd\n",
    "import tensorflow as tf\n",
    "from sklearn import preprocessing\n",
    "import numpy as np\n",
    "from tensorflow import keras\n",
    "from tensorflow.keras import layers"
   ]
  },
  {
   "cell_type": "code",
   "execution_count": 2,
   "metadata": {},
   "outputs": [],
   "source": [
    "feature = pd.read_csv('C:/Users/guisg/features2.csv')\n",
    "target = pd.read_csv('C:/Users/guisg/target2.csv')"
   ]
  },
  {
   "cell_type": "code",
   "execution_count": 3,
   "metadata": {},
   "outputs": [],
   "source": [
    "feature = feature.fillna(0)"
   ]
  },
  {
   "cell_type": "code",
   "execution_count": 4,
   "metadata": {},
   "outputs": [
    {
     "name": "stdout",
     "output_type": "stream",
     "text": [
      "<class 'pandas.core.frame.DataFrame'>\n",
      "RangeIndex: 30000 entries, 0 to 29999\n",
      "Data columns (total 5 columns):\n",
      " #   Column      Non-Null Count  Dtype  \n",
      "---  ------      --------------  -----  \n",
      " 0   Unnamed: 0  30000 non-null  int64  \n",
      " 1   0           30000 non-null  float64\n",
      " 2   1           30000 non-null  float64\n",
      " 3   2           30000 non-null  float64\n",
      " 4   3           30000 non-null  float64\n",
      "dtypes: float64(4), int64(1)\n",
      "memory usage: 1.1 MB\n"
     ]
    }
   ],
   "source": [
    "target.info()"
   ]
  },
  {
   "cell_type": "code",
   "execution_count": 5,
   "metadata": {},
   "outputs": [
    {
     "data": {
      "text/html": [
       "<div>\n",
       "<style scoped>\n",
       "    .dataframe tbody tr th:only-of-type {\n",
       "        vertical-align: middle;\n",
       "    }\n",
       "\n",
       "    .dataframe tbody tr th {\n",
       "        vertical-align: top;\n",
       "    }\n",
       "\n",
       "    .dataframe thead th {\n",
       "        text-align: right;\n",
       "    }\n",
       "</style>\n",
       "<table border=\"1\" class=\"dataframe\">\n",
       "  <thead>\n",
       "    <tr style=\"text-align: right;\">\n",
       "      <th></th>\n",
       "      <th>Unnamed: 0</th>\n",
       "      <th>0</th>\n",
       "      <th>1</th>\n",
       "      <th>2</th>\n",
       "      <th>3</th>\n",
       "      <th>4</th>\n",
       "      <th>5</th>\n",
       "      <th>6</th>\n",
       "      <th>7</th>\n",
       "      <th>8</th>\n",
       "      <th>...</th>\n",
       "      <th>994</th>\n",
       "      <th>995</th>\n",
       "      <th>996</th>\n",
       "      <th>997</th>\n",
       "      <th>998</th>\n",
       "      <th>999</th>\n",
       "      <th>1000</th>\n",
       "      <th>1001</th>\n",
       "      <th>1002</th>\n",
       "      <th>1003</th>\n",
       "    </tr>\n",
       "  </thead>\n",
       "  <tbody>\n",
       "    <tr>\n",
       "      <th>29995</th>\n",
       "      <td>0</td>\n",
       "      <td>-0.053435</td>\n",
       "      <td>-0.016971</td>\n",
       "      <td>0.002518</td>\n",
       "      <td>-0.037389</td>\n",
       "      <td>0.054839</td>\n",
       "      <td>0.043160</td>\n",
       "      <td>0.019255</td>\n",
       "      <td>0.035222</td>\n",
       "      <td>0.039755</td>\n",
       "      <td>...</td>\n",
       "      <td>-0.005496</td>\n",
       "      <td>-0.004962</td>\n",
       "      <td>-0.015177</td>\n",
       "      <td>-0.000938</td>\n",
       "      <td>-0.008127</td>\n",
       "      <td>-0.009335</td>\n",
       "      <td>0.010712</td>\n",
       "      <td>0.007277</td>\n",
       "      <td>-0.000656</td>\n",
       "      <td>0.003743</td>\n",
       "    </tr>\n",
       "    <tr>\n",
       "      <th>29996</th>\n",
       "      <td>0</td>\n",
       "      <td>-0.022556</td>\n",
       "      <td>-0.016090</td>\n",
       "      <td>-0.045114</td>\n",
       "      <td>0.001408</td>\n",
       "      <td>0.030177</td>\n",
       "      <td>0.047076</td>\n",
       "      <td>0.047356</td>\n",
       "      <td>0.003691</td>\n",
       "      <td>-0.005744</td>\n",
       "      <td>...</td>\n",
       "      <td>0.005147</td>\n",
       "      <td>0.007419</td>\n",
       "      <td>-0.002320</td>\n",
       "      <td>0.000218</td>\n",
       "      <td>-0.010042</td>\n",
       "      <td>-0.000961</td>\n",
       "      <td>0.003830</td>\n",
       "      <td>0.003268</td>\n",
       "      <td>0.002922</td>\n",
       "      <td>0.011058</td>\n",
       "    </tr>\n",
       "    <tr>\n",
       "      <th>29997</th>\n",
       "      <td>0</td>\n",
       "      <td>-0.045144</td>\n",
       "      <td>-0.028484</td>\n",
       "      <td>-0.006651</td>\n",
       "      <td>-0.005337</td>\n",
       "      <td>0.040822</td>\n",
       "      <td>0.053786</td>\n",
       "      <td>0.050215</td>\n",
       "      <td>0.024375</td>\n",
       "      <td>0.018227</td>\n",
       "      <td>...</td>\n",
       "      <td>-0.002739</td>\n",
       "      <td>-0.001074</td>\n",
       "      <td>-0.007069</td>\n",
       "      <td>-0.011650</td>\n",
       "      <td>0.005492</td>\n",
       "      <td>-0.009409</td>\n",
       "      <td>0.005490</td>\n",
       "      <td>0.000659</td>\n",
       "      <td>0.000000</td>\n",
       "      <td>0.008005</td>\n",
       "    </tr>\n",
       "    <tr>\n",
       "      <th>29998</th>\n",
       "      <td>0</td>\n",
       "      <td>-0.010260</td>\n",
       "      <td>-0.032264</td>\n",
       "      <td>-0.022200</td>\n",
       "      <td>-0.001150</td>\n",
       "      <td>0.041972</td>\n",
       "      <td>0.048001</td>\n",
       "      <td>0.029116</td>\n",
       "      <td>0.012307</td>\n",
       "      <td>0.028391</td>\n",
       "      <td>...</td>\n",
       "      <td>0.001853</td>\n",
       "      <td>0.000933</td>\n",
       "      <td>-0.004643</td>\n",
       "      <td>-0.008568</td>\n",
       "      <td>-0.007168</td>\n",
       "      <td>-0.016279</td>\n",
       "      <td>0.000897</td>\n",
       "      <td>0.004082</td>\n",
       "      <td>0.005822</td>\n",
       "      <td>0.008384</td>\n",
       "    </tr>\n",
       "    <tr>\n",
       "      <th>29999</th>\n",
       "      <td>0</td>\n",
       "      <td>-0.023209</td>\n",
       "      <td>-0.039325</td>\n",
       "      <td>0.003329</td>\n",
       "      <td>-0.032456</td>\n",
       "      <td>0.022068</td>\n",
       "      <td>0.041657</td>\n",
       "      <td>0.033842</td>\n",
       "      <td>0.049331</td>\n",
       "      <td>0.006545</td>\n",
       "      <td>...</td>\n",
       "      <td>-0.004418</td>\n",
       "      <td>-0.010565</td>\n",
       "      <td>-0.008081</td>\n",
       "      <td>-0.004268</td>\n",
       "      <td>-0.002959</td>\n",
       "      <td>-0.004418</td>\n",
       "      <td>-0.011046</td>\n",
       "      <td>-0.009001</td>\n",
       "      <td>0.000989</td>\n",
       "      <td>-0.001849</td>\n",
       "    </tr>\n",
       "  </tbody>\n",
       "</table>\n",
       "<p>5 rows × 1005 columns</p>\n",
       "</div>"
      ],
      "text/plain": [
       "       Unnamed: 0         0         1         2         3         4         5  \\\n",
       "29995           0 -0.053435 -0.016971  0.002518 -0.037389  0.054839  0.043160   \n",
       "29996           0 -0.022556 -0.016090 -0.045114  0.001408  0.030177  0.047076   \n",
       "29997           0 -0.045144 -0.028484 -0.006651 -0.005337  0.040822  0.053786   \n",
       "29998           0 -0.010260 -0.032264 -0.022200 -0.001150  0.041972  0.048001   \n",
       "29999           0 -0.023209 -0.039325  0.003329 -0.032456  0.022068  0.041657   \n",
       "\n",
       "              6         7         8  ...       994       995       996  \\\n",
       "29995  0.019255  0.035222  0.039755  ... -0.005496 -0.004962 -0.015177   \n",
       "29996  0.047356  0.003691 -0.005744  ...  0.005147  0.007419 -0.002320   \n",
       "29997  0.050215  0.024375  0.018227  ... -0.002739 -0.001074 -0.007069   \n",
       "29998  0.029116  0.012307  0.028391  ...  0.001853  0.000933 -0.004643   \n",
       "29999  0.033842  0.049331  0.006545  ... -0.004418 -0.010565 -0.008081   \n",
       "\n",
       "            997       998       999      1000      1001      1002      1003  \n",
       "29995 -0.000938 -0.008127 -0.009335  0.010712  0.007277 -0.000656  0.003743  \n",
       "29996  0.000218 -0.010042 -0.000961  0.003830  0.003268  0.002922  0.011058  \n",
       "29997 -0.011650  0.005492 -0.009409  0.005490  0.000659  0.000000  0.008005  \n",
       "29998 -0.008568 -0.007168 -0.016279  0.000897  0.004082  0.005822  0.008384  \n",
       "29999 -0.004268 -0.002959 -0.004418 -0.011046 -0.009001  0.000989 -0.001849  \n",
       "\n",
       "[5 rows x 1005 columns]"
      ]
     },
     "execution_count": 5,
     "metadata": {},
     "output_type": "execute_result"
    }
   ],
   "source": [
    "feature.tail()"
   ]
  },
  {
   "cell_type": "code",
   "execution_count": 6,
   "metadata": {
    "scrolled": true
   },
   "outputs": [
    {
     "data": {
      "text/html": [
       "<div>\n",
       "<style scoped>\n",
       "    .dataframe tbody tr th:only-of-type {\n",
       "        vertical-align: middle;\n",
       "    }\n",
       "\n",
       "    .dataframe tbody tr th {\n",
       "        vertical-align: top;\n",
       "    }\n",
       "\n",
       "    .dataframe thead th {\n",
       "        text-align: right;\n",
       "    }\n",
       "</style>\n",
       "<table border=\"1\" class=\"dataframe\">\n",
       "  <thead>\n",
       "    <tr style=\"text-align: right;\">\n",
       "      <th></th>\n",
       "      <th>Unnamed: 0</th>\n",
       "      <th>0</th>\n",
       "      <th>1</th>\n",
       "      <th>2</th>\n",
       "      <th>3</th>\n",
       "    </tr>\n",
       "  </thead>\n",
       "  <tbody>\n",
       "    <tr>\n",
       "      <th>29995</th>\n",
       "      <td>3425</td>\n",
       "      <td>0.146897</td>\n",
       "      <td>0.001303</td>\n",
       "      <td>0.271106</td>\n",
       "      <td>0.580695</td>\n",
       "    </tr>\n",
       "    <tr>\n",
       "      <th>29996</th>\n",
       "      <td>3361</td>\n",
       "      <td>0.328613</td>\n",
       "      <td>0.007165</td>\n",
       "      <td>0.571839</td>\n",
       "      <td>0.092383</td>\n",
       "    </tr>\n",
       "    <tr>\n",
       "      <th>29997</th>\n",
       "      <td>3250</td>\n",
       "      <td>0.000807</td>\n",
       "      <td>0.578682</td>\n",
       "      <td>0.206869</td>\n",
       "      <td>0.213642</td>\n",
       "    </tr>\n",
       "    <tr>\n",
       "      <th>29998</th>\n",
       "      <td>4386</td>\n",
       "      <td>0.196171</td>\n",
       "      <td>0.630992</td>\n",
       "      <td>0.172599</td>\n",
       "      <td>0.000239</td>\n",
       "    </tr>\n",
       "    <tr>\n",
       "      <th>29999</th>\n",
       "      <td>784</td>\n",
       "      <td>0.449743</td>\n",
       "      <td>0.343557</td>\n",
       "      <td>0.204409</td>\n",
       "      <td>0.002291</td>\n",
       "    </tr>\n",
       "  </tbody>\n",
       "</table>\n",
       "</div>"
      ],
      "text/plain": [
       "       Unnamed: 0         0         1         2         3\n",
       "29995        3425  0.146897  0.001303  0.271106  0.580695\n",
       "29996        3361  0.328613  0.007165  0.571839  0.092383\n",
       "29997        3250  0.000807  0.578682  0.206869  0.213642\n",
       "29998        4386  0.196171  0.630992  0.172599  0.000239\n",
       "29999         784  0.449743  0.343557  0.204409  0.002291"
      ]
     },
     "execution_count": 6,
     "metadata": {},
     "output_type": "execute_result"
    }
   ],
   "source": [
    "target.tail()"
   ]
  },
  {
   "cell_type": "code",
   "execution_count": 7,
   "metadata": {},
   "outputs": [
    {
     "data": {
      "text/plain": [
       "count    30000.000000\n",
       "mean      2488.471767\n",
       "std       1442.660441\n",
       "min          0.000000\n",
       "25%       1243.000000\n",
       "50%       2483.000000\n",
       "75%       3739.000000\n",
       "max       4999.000000\n",
       "Name: Unnamed: 0, dtype: float64"
      ]
     },
     "execution_count": 7,
     "metadata": {},
     "output_type": "execute_result"
    }
   ],
   "source": [
    "target['Unnamed: 0'].describe()"
   ]
  },
  {
   "cell_type": "code",
   "execution_count": 8,
   "metadata": {},
   "outputs": [],
   "source": [
    "target.drop('Unnamed: 0', axis=1, inplace=True)"
   ]
  },
  {
   "cell_type": "code",
   "execution_count": 9,
   "metadata": {},
   "outputs": [],
   "source": [
    "#Separação entre Train e Test\n",
    "\n",
    "feature_train = feature[:-6000]\n",
    "target_train = target[:-6000]\n",
    "\n",
    "feature_test = feature[-6000:]\n",
    "target_test = target[-6000:]"
   ]
  },
  {
   "cell_type": "code",
   "execution_count": 10,
   "metadata": {},
   "outputs": [],
   "source": [
    "feature_train = feature_train.to_numpy()\n",
    "target_train = target_train.to_numpy()"
   ]
  },
  {
   "cell_type": "code",
   "execution_count": 11,
   "metadata": {},
   "outputs": [],
   "source": [
    "feature_test = feature_test.to_numpy()\n",
    "target_test = target_test.to_numpy()"
   ]
  },
  {
   "cell_type": "code",
   "execution_count": 12,
   "metadata": {},
   "outputs": [],
   "source": [
    "from tensorflow import keras\n",
    "from tensorflow.keras import layers"
   ]
  },
  {
   "cell_type": "code",
   "execution_count": 13,
   "metadata": {},
   "outputs": [
    {
     "name": "stdout",
     "output_type": "stream",
     "text": [
      "WARNING:tensorflow:From C:\\Users\\guisg\\AppData\\Local\\Programs\\Python\\Python37\\lib\\site-packages\\tensorflow_core\\python\\ops\\resource_variable_ops.py:1630: calling BaseResourceVariable.__init__ (from tensorflow.python.ops.resource_variable_ops) with constraint is deprecated and will be removed in a future version.\n",
      "Instructions for updating:\n",
      "If using Keras pass *_constraint arguments to layers.\n",
      "Train on 19200 samples, validate on 4800 samples\n",
      "Epoch 1/10\n",
      "19200/19200 [==============================] - 7s 382us/sample - loss: 0.0300 - acc: 0.6193 - val_loss: 0.0211 - val_acc: 0.6967\n",
      "Epoch 2/10\n",
      "19200/19200 [==============================] - 7s 352us/sample - loss: 0.0175 - acc: 0.7341 - val_loss: 0.0168 - val_acc: 0.7331\n",
      "Epoch 3/10\n",
      "19200/19200 [==============================] - 7s 361us/sample - loss: 0.0129 - acc: 0.7811 - val_loss: 0.0139 - val_acc: 0.7723\n",
      "Epoch 4/10\n",
      "19200/19200 [==============================] - 7s 343us/sample - loss: 0.0100 - acc: 0.8178 - val_loss: 0.0124 - val_acc: 0.7835\n",
      "Epoch 5/10\n",
      "19200/19200 [==============================] - 7s 342us/sample - loss: 0.0084 - acc: 0.8359 - val_loss: 0.0121 - val_acc: 0.7896\n",
      "Epoch 6/10\n",
      "19200/19200 [==============================] - 7s 355us/sample - loss: 0.0071 - acc: 0.8543 - val_loss: 0.0128 - val_acc: 0.7783\n",
      "Epoch 7/10\n",
      "19200/19200 [==============================] - 7s 360us/sample - loss: 0.0058 - acc: 0.8707 - val_loss: 0.0127 - val_acc: 0.7860\n",
      "Epoch 8/10\n",
      "19200/19200 [==============================] - 7s 357us/sample - loss: 0.0044 - acc: 0.8867 - val_loss: 0.0123 - val_acc: 0.7967\n",
      "Epoch 9/10\n",
      "19200/19200 [==============================] - 7s 353us/sample - loss: 0.0032 - acc: 0.9004 - val_loss: 0.0124 - val_acc: 0.7892\n",
      "Epoch 10/10\n",
      "19200/19200 [==============================] - 7s 344us/sample - loss: 0.0026 - acc: 0.9064 - val_loss: 0.0125 - val_acc: 0.7879\n"
     ]
    }
   ],
   "source": [
    "# Criação do modelo sequencial\n",
    "model = tf.keras.models.Sequential()\n",
    "\n",
    "# Quantidade de features\n",
    "ncols = len(feature.columns)\n",
    "\n",
    "# Primeira e segunda camadas com ativação ReLU\n",
    "model.add(tf.keras.layers.Dense(512, activation='relu', input_shape=(ncols,)))\n",
    "model.add(tf.keras.layers.Dense(512, activation='relu'))\n",
    "model.add(tf.keras.layers.Dense(150, activation='relu'))\n",
    "\n",
    "# Camada final\n",
    "# função de ativação 'sigmoid' garante 4 saídas\n",
    "model.add(tf.keras.layers.Dense(4, activation='sigmoid'))\n",
    "\n",
    "# Compilamos a rede neural utilizando o otimizador 'SGD', um dos vários disponíveis na biblioteca\n",
    "opt = keras.optimizers.SGD(learning_rate=0.01)\n",
    "model.compile(optimizer='adam', loss='mse', metrics=['accuracy'])\n",
    "\n",
    "# Realizamos o treino da rede neural com 10 treinamentos e guardando 20% dos dados para validação\n",
    "results = model.fit(feature_train, target_train, epochs=10, validation_split = 0.2)"
   ]
  },
  {
   "cell_type": "code",
   "execution_count": 14,
   "metadata": {},
   "outputs": [],
   "source": [
    "prediction = model.predict(feature_test)"
   ]
  },
  {
   "cell_type": "code",
   "execution_count": 15,
   "metadata": {},
   "outputs": [
    {
     "name": "stdout",
     "output_type": "stream",
     "text": [
      "6000/6000 [==============================] - 1s 84us/sample - loss: 0.0130 - acc: 0.7903\n"
     ]
    },
    {
     "data": {
      "text/plain": [
       "[0.01300317959052821, 0.79033333]"
      ]
     },
     "execution_count": 15,
     "metadata": {},
     "output_type": "execute_result"
    }
   ],
   "source": [
    "model.evaluate(feature_test, target_test)"
   ]
  },
  {
   "cell_type": "code",
   "execution_count": 16,
   "metadata": {},
   "outputs": [
    {
     "data": {
      "text/plain": [
       "array([[0.17147323, 0.48742047, 0.13641712, 0.14194584],\n",
       "       [0.10357526, 0.33376566, 0.5287875 , 0.05536321],\n",
       "       [0.17079967, 0.64510196, 0.00331491, 0.16869894],\n",
       "       ...,\n",
       "       [0.02313647, 0.5793513 , 0.19484892, 0.23027241],\n",
       "       [0.19481876, 0.5313501 , 0.2132853 , 0.0604817 ],\n",
       "       [0.43928605, 0.3966961 , 0.1373479 , 0.02753109]], dtype=float32)"
      ]
     },
     "execution_count": 16,
     "metadata": {},
     "output_type": "execute_result"
    }
   ],
   "source": [
    "prediction"
   ]
  },
  {
   "cell_type": "code",
   "execution_count": 17,
   "metadata": {},
   "outputs": [],
   "source": [
    "prediction = pd.DataFrame(prediction)"
   ]
  },
  {
   "cell_type": "code",
   "execution_count": 18,
   "metadata": {},
   "outputs": [
    {
     "data": {
      "text/html": [
       "<div>\n",
       "<style scoped>\n",
       "    .dataframe tbody tr th:only-of-type {\n",
       "        vertical-align: middle;\n",
       "    }\n",
       "\n",
       "    .dataframe tbody tr th {\n",
       "        vertical-align: top;\n",
       "    }\n",
       "\n",
       "    .dataframe thead th {\n",
       "        text-align: right;\n",
       "    }\n",
       "</style>\n",
       "<table border=\"1\" class=\"dataframe\">\n",
       "  <thead>\n",
       "    <tr style=\"text-align: right;\">\n",
       "      <th></th>\n",
       "      <th>0</th>\n",
       "      <th>1</th>\n",
       "      <th>2</th>\n",
       "      <th>3</th>\n",
       "    </tr>\n",
       "  </thead>\n",
       "  <tbody>\n",
       "    <tr>\n",
       "      <th>0</th>\n",
       "      <td>0.171473</td>\n",
       "      <td>0.487420</td>\n",
       "      <td>0.136417</td>\n",
       "      <td>0.141946</td>\n",
       "    </tr>\n",
       "    <tr>\n",
       "      <th>1</th>\n",
       "      <td>0.103575</td>\n",
       "      <td>0.333766</td>\n",
       "      <td>0.528787</td>\n",
       "      <td>0.055363</td>\n",
       "    </tr>\n",
       "    <tr>\n",
       "      <th>2</th>\n",
       "      <td>0.170800</td>\n",
       "      <td>0.645102</td>\n",
       "      <td>0.003315</td>\n",
       "      <td>0.168699</td>\n",
       "    </tr>\n",
       "    <tr>\n",
       "      <th>3</th>\n",
       "      <td>0.096905</td>\n",
       "      <td>0.039992</td>\n",
       "      <td>0.281763</td>\n",
       "      <td>0.583633</td>\n",
       "    </tr>\n",
       "    <tr>\n",
       "      <th>4</th>\n",
       "      <td>0.400029</td>\n",
       "      <td>0.539091</td>\n",
       "      <td>0.001496</td>\n",
       "      <td>0.056447</td>\n",
       "    </tr>\n",
       "  </tbody>\n",
       "</table>\n",
       "</div>"
      ],
      "text/plain": [
       "          0         1         2         3\n",
       "0  0.171473  0.487420  0.136417  0.141946\n",
       "1  0.103575  0.333766  0.528787  0.055363\n",
       "2  0.170800  0.645102  0.003315  0.168699\n",
       "3  0.096905  0.039992  0.281763  0.583633\n",
       "4  0.400029  0.539091  0.001496  0.056447"
      ]
     },
     "execution_count": 18,
     "metadata": {},
     "output_type": "execute_result"
    }
   ],
   "source": [
    "prediction.head()"
   ]
  },
  {
   "cell_type": "code",
   "execution_count": 19,
   "metadata": {},
   "outputs": [
    {
     "data": {
      "text/html": [
       "<div>\n",
       "<style scoped>\n",
       "    .dataframe tbody tr th:only-of-type {\n",
       "        vertical-align: middle;\n",
       "    }\n",
       "\n",
       "    .dataframe tbody tr th {\n",
       "        vertical-align: top;\n",
       "    }\n",
       "\n",
       "    .dataframe thead th {\n",
       "        text-align: right;\n",
       "    }\n",
       "</style>\n",
       "<table border=\"1\" class=\"dataframe\">\n",
       "  <thead>\n",
       "    <tr style=\"text-align: right;\">\n",
       "      <th></th>\n",
       "      <th>0</th>\n",
       "      <th>1</th>\n",
       "      <th>2</th>\n",
       "      <th>3</th>\n",
       "    </tr>\n",
       "  </thead>\n",
       "  <tbody>\n",
       "    <tr>\n",
       "      <th>5995</th>\n",
       "      <td>0.141360</td>\n",
       "      <td>0.035947</td>\n",
       "      <td>0.187570</td>\n",
       "      <td>0.669984</td>\n",
       "    </tr>\n",
       "    <tr>\n",
       "      <th>5996</th>\n",
       "      <td>0.379448</td>\n",
       "      <td>0.021031</td>\n",
       "      <td>0.532460</td>\n",
       "      <td>0.040359</td>\n",
       "    </tr>\n",
       "    <tr>\n",
       "      <th>5997</th>\n",
       "      <td>0.023136</td>\n",
       "      <td>0.579351</td>\n",
       "      <td>0.194849</td>\n",
       "      <td>0.230272</td>\n",
       "    </tr>\n",
       "    <tr>\n",
       "      <th>5998</th>\n",
       "      <td>0.194819</td>\n",
       "      <td>0.531350</td>\n",
       "      <td>0.213285</td>\n",
       "      <td>0.060482</td>\n",
       "    </tr>\n",
       "    <tr>\n",
       "      <th>5999</th>\n",
       "      <td>0.439286</td>\n",
       "      <td>0.396696</td>\n",
       "      <td>0.137348</td>\n",
       "      <td>0.027531</td>\n",
       "    </tr>\n",
       "  </tbody>\n",
       "</table>\n",
       "</div>"
      ],
      "text/plain": [
       "             0         1         2         3\n",
       "5995  0.141360  0.035947  0.187570  0.669984\n",
       "5996  0.379448  0.021031  0.532460  0.040359\n",
       "5997  0.023136  0.579351  0.194849  0.230272\n",
       "5998  0.194819  0.531350  0.213285  0.060482\n",
       "5999  0.439286  0.396696  0.137348  0.027531"
      ]
     },
     "execution_count": 19,
     "metadata": {},
     "output_type": "execute_result"
    }
   ],
   "source": [
    "prediction.tail()"
   ]
  },
  {
   "cell_type": "code",
   "execution_count": 62,
   "metadata": {},
   "outputs": [],
   "source": [
    "def pesos(df):\n",
    "    \n",
    "    pesos = pd.DataFrame()\n",
    "    l = len(df)\n",
    "    t = 0\n",
    "    \n",
    "    for t in range(0,l+1):\n",
    "        \n",
    "        if t < l:\n",
    "            \n",
    "            s = df.iloc[t, 0] + df.iloc[t, 1] + df.iloc[t, 2] + df.iloc[t, 3]\n",
    "            \n",
    "            w1 = df.iloc[t, 0]/s\n",
    "        \n",
    "            w2 = df.iloc[t, 1]/s\n",
    "            \n",
    "            w3 = df.iloc[t, 2]/s\n",
    "            \n",
    "            w4 = df.iloc[t, 3]/s\n",
    "            \n",
    "            row = pd.Series([w1, w2, w3, w4])\n",
    "            row_df = pd.DataFrame([row])\n",
    "            pesos = pd.concat([row_df, pesos], ignore_index=True)\n",
    "            \n",
    "            t = t + 1\n",
    "            \n",
    "        if t == l+1:\n",
    "            break\n",
    "            \n",
    "    return pesos"
   ]
  },
  {
   "cell_type": "code",
   "execution_count": 63,
   "metadata": {},
   "outputs": [],
   "source": [
    "pesos = pesos(prediction)"
   ]
  },
  {
   "cell_type": "code",
   "execution_count": 64,
   "metadata": {},
   "outputs": [
    {
     "data": {
      "text/html": [
       "<div>\n",
       "<style scoped>\n",
       "    .dataframe tbody tr th:only-of-type {\n",
       "        vertical-align: middle;\n",
       "    }\n",
       "\n",
       "    .dataframe tbody tr th {\n",
       "        vertical-align: top;\n",
       "    }\n",
       "\n",
       "    .dataframe thead th {\n",
       "        text-align: right;\n",
       "    }\n",
       "</style>\n",
       "<table border=\"1\" class=\"dataframe\">\n",
       "  <thead>\n",
       "    <tr style=\"text-align: right;\">\n",
       "      <th></th>\n",
       "      <th>0</th>\n",
       "      <th>1</th>\n",
       "      <th>2</th>\n",
       "      <th>3</th>\n",
       "    </tr>\n",
       "  </thead>\n",
       "  <tbody>\n",
       "    <tr>\n",
       "      <th>0</th>\n",
       "      <td>0.438908</td>\n",
       "      <td>0.396355</td>\n",
       "      <td>0.137230</td>\n",
       "      <td>0.027507</td>\n",
       "    </tr>\n",
       "    <tr>\n",
       "      <th>1</th>\n",
       "      <td>0.194831</td>\n",
       "      <td>0.531384</td>\n",
       "      <td>0.213299</td>\n",
       "      <td>0.060486</td>\n",
       "    </tr>\n",
       "    <tr>\n",
       "      <th>2</th>\n",
       "      <td>0.022515</td>\n",
       "      <td>0.563786</td>\n",
       "      <td>0.189614</td>\n",
       "      <td>0.224086</td>\n",
       "    </tr>\n",
       "    <tr>\n",
       "      <th>3</th>\n",
       "      <td>0.389858</td>\n",
       "      <td>0.021608</td>\n",
       "      <td>0.547068</td>\n",
       "      <td>0.041466</td>\n",
       "    </tr>\n",
       "    <tr>\n",
       "      <th>4</th>\n",
       "      <td>0.136598</td>\n",
       "      <td>0.034736</td>\n",
       "      <td>0.181251</td>\n",
       "      <td>0.647415</td>\n",
       "    </tr>\n",
       "  </tbody>\n",
       "</table>\n",
       "</div>"
      ],
      "text/plain": [
       "          0         1         2         3\n",
       "0  0.438908  0.396355  0.137230  0.027507\n",
       "1  0.194831  0.531384  0.213299  0.060486\n",
       "2  0.022515  0.563786  0.189614  0.224086\n",
       "3  0.389858  0.021608  0.547068  0.041466\n",
       "4  0.136598  0.034736  0.181251  0.647415"
      ]
     },
     "execution_count": 64,
     "metadata": {},
     "output_type": "execute_result"
    }
   ],
   "source": [
    "pesos.head()"
   ]
  },
  {
   "cell_type": "code",
   "execution_count": 72,
   "metadata": {},
   "outputs": [],
   "source": [
    "pesos = pesos.sort_index(ascending = False)"
   ]
  },
  {
   "cell_type": "code",
   "execution_count": 76,
   "metadata": {},
   "outputs": [],
   "source": [
    "pesos.reset_index(drop=True, inplace=True)"
   ]
  },
  {
   "cell_type": "code",
   "execution_count": 77,
   "metadata": {},
   "outputs": [
    {
     "data": {
      "text/html": [
       "<div>\n",
       "<style scoped>\n",
       "    .dataframe tbody tr th:only-of-type {\n",
       "        vertical-align: middle;\n",
       "    }\n",
       "\n",
       "    .dataframe tbody tr th {\n",
       "        vertical-align: top;\n",
       "    }\n",
       "\n",
       "    .dataframe thead th {\n",
       "        text-align: right;\n",
       "    }\n",
       "</style>\n",
       "<table border=\"1\" class=\"dataframe\">\n",
       "  <thead>\n",
       "    <tr style=\"text-align: right;\">\n",
       "      <th></th>\n",
       "      <th>0</th>\n",
       "      <th>1</th>\n",
       "      <th>2</th>\n",
       "      <th>3</th>\n",
       "    </tr>\n",
       "  </thead>\n",
       "  <tbody>\n",
       "    <tr>\n",
       "      <th>0</th>\n",
       "      <td>0.182952</td>\n",
       "      <td>0.520050</td>\n",
       "      <td>0.145549</td>\n",
       "      <td>0.151448</td>\n",
       "    </tr>\n",
       "    <tr>\n",
       "      <th>1</th>\n",
       "      <td>0.101396</td>\n",
       "      <td>0.326743</td>\n",
       "      <td>0.517662</td>\n",
       "      <td>0.054198</td>\n",
       "    </tr>\n",
       "    <tr>\n",
       "      <th>2</th>\n",
       "      <td>0.172889</td>\n",
       "      <td>0.652993</td>\n",
       "      <td>0.003355</td>\n",
       "      <td>0.170763</td>\n",
       "    </tr>\n",
       "    <tr>\n",
       "      <th>3</th>\n",
       "      <td>0.096684</td>\n",
       "      <td>0.039901</td>\n",
       "      <td>0.281118</td>\n",
       "      <td>0.582297</td>\n",
       "    </tr>\n",
       "    <tr>\n",
       "      <th>4</th>\n",
       "      <td>0.401207</td>\n",
       "      <td>0.540679</td>\n",
       "      <td>0.001500</td>\n",
       "      <td>0.056614</td>\n",
       "    </tr>\n",
       "  </tbody>\n",
       "</table>\n",
       "</div>"
      ],
      "text/plain": [
       "          0         1         2         3\n",
       "0  0.182952  0.520050  0.145549  0.151448\n",
       "1  0.101396  0.326743  0.517662  0.054198\n",
       "2  0.172889  0.652993  0.003355  0.170763\n",
       "3  0.096684  0.039901  0.281118  0.582297\n",
       "4  0.401207  0.540679  0.001500  0.056614"
      ]
     },
     "execution_count": 77,
     "metadata": {},
     "output_type": "execute_result"
    }
   ],
   "source": [
    "pesos.head()"
   ]
  },
  {
   "cell_type": "code",
   "execution_count": null,
   "metadata": {},
   "outputs": [],
   "source": []
  }
 ],
 "metadata": {
  "kernelspec": {
   "display_name": "quant_new",
   "language": "python",
   "name": "quant_new"
  },
  "language_info": {
   "codemirror_mode": {
    "name": "ipython",
    "version": 3
   },
   "file_extension": ".py",
   "mimetype": "text/x-python",
   "name": "python",
   "nbconvert_exporter": "python",
   "pygments_lexer": "ipython3",
   "version": "3.7.3"
  }
 },
 "nbformat": 4,
 "nbformat_minor": 2
}
